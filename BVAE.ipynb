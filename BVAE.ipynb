{
  "cells": [
    {
      "cell_type": "code",
      "execution_count": 6,
      "metadata": {
        "id": "QEK_zoODwiyr"
      },
      "outputs": [],
      "source": [
        "import numpy as np\n",
        "import torch\n",
        "import torch.nn as nn\n",
        "import torch.nn.functional as F\n",
        "from torchvision import datasets, transforms\n",
        "from matplotlib import pyplot as plt\n",
        "from torch.distributions import *\n",
        "from torch.utils.data import Dataset, DataLoader\n",
        "import pandas as pd\n",
        "import os\n",
        "from skimage import io\n",
        "\n",
        "\n",
        "\n",
        "class imgDataset(Dataset):\n",
        "    def __init__(self, transform=None):\n",
        "        self.img_list = os.listdir('img/')\n",
        "        self.transform = transform\n",
        "\n",
        "    def __len__(self):\n",
        "        return len(self.img_list)\n",
        "\n",
        "    def __getitem__(self, idx):\n",
        "        if torch.is_tensor(idx):\n",
        "            idx = idx.tolist()\n",
        "\n",
        "        name= self.img_list[idx]\n",
        "        \n",
        "        img_name = 'img/'+ name\n",
        "        \n",
        "        img = io.imread(img_name)\n",
        "        img = img[0:180,70:250,:]\n",
        "        sample = img\n",
        "        if self.transform:\n",
        "            sample = self.transform(sample)\n",
        "        return sample\n",
        "\n",
        "\n",
        "dataset = imgDataset(transforms.ToTensor())\n",
        "\n",
        "\n",
        "train_loader = torch.utils.data.DataLoader(dataset,batch_size=64, shuffle=True)\n",
        "\n",
        "device = torch.device(\"cuda\" if torch.cuda.is_available() else \"cpu\")\n"
      ]
    },
    {
      "cell_type": "code",
      "execution_count": 7,
      "metadata": {
        "id": "tOr444Ycw4DC"
      },
      "outputs": [],
      "source": [
        "class Encoder(nn.Module):\n",
        "  def __init__(self,z=10):\n",
        "    super(Encoder, self).__init__()\n",
        "\n",
        "    # self.l1 = nn.Linear(28*28,256)\n",
        "    self.conv1 = nn.Conv2d(3,8,(7,7),stride=4)\n",
        "    self.conv2 = nn.Conv2d(8,16,(5,5),stride=3)\n",
        "    self.conv3 = nn.Conv2d(16,32,(3,3),stride=2)\n",
        "\n",
        "    \n",
        "    self.fc = nn.Linear(32*6*6,128)    \n",
        " \n",
        "    self.mean = nn.Linear(128 ,32)\n",
        "    self.log_std = nn.Linear(128 ,32)\n",
        "\n",
        "  def forward(self, img):\n",
        "    # print('img',img.shape)\n",
        "    out = F.leaky_relu(self.conv1(img))\n",
        "    # print('out1',out.shape)\n",
        "\n",
        "    out = F.leaky_relu(self.conv2(out))\n",
        "    # print('out2',out.shape)\n",
        "\n",
        "    out = F.leaky_relu(self.conv3(out))\n",
        "    # print('out3',out.shape)\n",
        "\n",
        "    out = out.reshape(-1,32*6*6)\n",
        "    out = F.leaky_relu(self.fc(out))\n",
        "    mean = \tF.tanh(self.mean(out))\n",
        "    log_std = self.log_std(out)\n",
        "    return mean,log_std\n",
        "\n",
        "\n",
        "class Decoder(nn.Module):\n",
        "  def __init__(self):\n",
        "    super(Decoder, self).__init__()\n",
        "\n",
        "    self.fc1 = nn.Linear(32,128)\n",
        "    self.fc2 = nn.Linear(128,32*6*6)\n",
        "    self.conv1 = nn.Conv2d(32,16,(3,3),padding='same')\n",
        "    self.conv2 = nn.Conv2d(16,8,(5,5),padding='same')\n",
        "    self.conv3 = nn.Conv2d(8,3,(7,7),padding='same')\n",
        "  def forward(self, lat):\n",
        "    # print(lat.shape)\n",
        "    out = F.leaky_relu(self.fc1(lat))\n",
        "    out = F.leaky_relu(self.fc2(out))\n",
        "    out = out.reshape(-1,32,6,6)\n",
        "    out = F.leaky_relu(self.conv1(F.interpolate(out,(14,14),mode='bilinear')))\n",
        "    out = F.leaky_relu(self.conv2(F.interpolate(out,(44,44),mode='bilinear')))\n",
        "    out = F.sigmoid(self.conv3(F.interpolate(out,(180,180),mode='bilinear')))\n",
        "\n",
        "    return\tout\n",
        "\n"
      ]
    },
    {
      "cell_type": "code",
      "execution_count": 8,
      "metadata": {
        "id": "3wdeQSDv0-Ar"
      },
      "outputs": [],
      "source": [
        "class autoencoder(object):\n",
        "  def __init__(self):\n",
        "    self.decoder = Decoder().to(device)\n",
        "    self.encoder = Encoder().to(device)\n",
        "    self.optimizer =  torch.optim.Adam(list(self.encoder.parameters())+list(self.decoder.parameters()),lr=1e-3)\n",
        "\n",
        "\n",
        "\n",
        "  def train(self,data_loader):\n",
        "    img = next(iter(data_loader))\n",
        "    img = img.to(device)\n",
        "    beta = 5\n",
        "\n",
        "    mean,log_std = self.encoder(img)\n",
        "\n",
        "    var = torch.exp(2*log_std)\n",
        " \n",
        "    a = torch.arange(0,var.shape[1]).to(device)\n",
        "    cov_mat = torch.zeros((var.shape[0],var.shape[1],var.shape[1])).to(device)\n",
        "    cov_mat[:,a,a] = var\n",
        "\n",
        "    nor_dist = torch.distributions.MultivariateNormal(mean, cov_mat)\n",
        "\n",
        "    standard_nor = torch.distributions.MultivariateNormal(torch.zeros(mean.shape[1]).to(device), torch.eye(cov_mat.shape[1]).to(device))\n",
        "\n",
        "    latent = standard_nor.sample((mean.shape[0],))*torch.exp(log_std) + mean\n",
        "\n",
        "    bern = self.decoder(latent)\n",
        "    \n",
        "    loss =  nn.BCELoss(reduction='sum')(bern,img)/torch.tensor(64) + beta*kl_divergence(nor_dist,standard_nor).mean(0)\n",
        "    self.optimizer.zero_grad()\n",
        "\n",
        "\n",
        "    loss.backward()\n",
        "\n",
        "    self.optimizer.step()\n",
        "    \n",
        "    return loss\n",
        "\n"
      ]
    },
    {
      "cell_type": "code",
      "execution_count": 10,
      "metadata": {
        "colab": {
          "base_uri": "https://localhost:8080/"
        },
        "id": "E7uDaq2t4Ldn",
        "outputId": "197ce6db-11d4-4a15-dd25-6a11b2e9e9dd"
      },
      "outputs": [
        {
          "name": "stdout",
          "output_type": "stream",
          "text": [
            "99 tensor(41236.9258, device='cuda:0', grad_fn=<DivBackward0>)\n",
            "199 tensor(32894.1133, device='cuda:0', grad_fn=<DivBackward0>)\n",
            "299 tensor(30889.5137, device='cuda:0', grad_fn=<DivBackward0>)\n",
            "399 tensor(30310.4512, device='cuda:0', grad_fn=<DivBackward0>)\n",
            "499 tensor(29896.1699, device='cuda:0', grad_fn=<DivBackward0>)\n",
            "599 tensor(29786.8438, device='cuda:0', grad_fn=<DivBackward0>)\n",
            "699 tensor(29591.6719, device='cuda:0', grad_fn=<DivBackward0>)\n",
            "799 tensor(29427.2246, device='cuda:0', grad_fn=<DivBackward0>)\n",
            "899 tensor(29381.5488, device='cuda:0', grad_fn=<DivBackward0>)\n",
            "999 tensor(29317.9160, device='cuda:0', grad_fn=<DivBackward0>)\n"
          ]
        }
      ],
      "source": [
        "auto = autoencoder()\n",
        "loss = 0\n",
        "\n",
        "for i in range(1001):\n",
        "  loss+= auto.train(train_loader)\n",
        "  if (i+1)%100==0:\n",
        "    print(i,loss/100)\n",
        "    loss = 0"
      ]
    },
    {
      "cell_type": "code",
      "execution_count": null,
      "metadata": {
        "colab": {
          "base_uri": "https://localhost:8080/"
        },
        "id": "Mntg_PE0lqgp",
        "outputId": "1eb6ef98-0d58-4221-efb8-04f4e485b939"
      },
      "outputs": [],
      "source": [
        "for i in range(10001):\n",
        "  loss+= auto.train(train_loader)\n",
        "  if (i+1)%100==0:\n",
        "    print(i,loss/100)\n",
        "    loss = 0"
      ]
    },
    {
      "cell_type": "code",
      "execution_count": 66,
      "metadata": {
        "colab": {
          "base_uri": "https://localhost:8080/",
          "height": 253
        },
        "id": "n-MGiU-okF5L",
        "outputId": "2fc5c303-b683-48f1-ffa5-409d5d57aca0"
      },
      "outputs": [
        {
          "data": {
            "text/plain": [
              "<matplotlib.image.AxesImage at 0x7f17e8321e20>"
            ]
          },
          "execution_count": 66,
          "metadata": {},
          "output_type": "execute_result"
        },
        {
          "data": {
            "image/png": "[encoded data removed]",
            "text/plain": [
              "<Figure size 432x288 with 1 Axes>"
            ]
          },
          "metadata": {
            "needs_background": "light"
          },
          "output_type": "display_data"
        }
      ],
      "source": [
        "# i = 901\n",
        "\n",
        "\n",
        "# f, axarr = plt.subplots(1,2)\n",
        "\n",
        "# genr = auto.decoder(auto.encoder(dataset2[i][0].to(device)))\n",
        "# img = dataset2[i][0]\n",
        "# bin_img = (img>0.5).float()\n",
        "\n",
        "# plt.imshow(bin_img.detach().cpu().squeeze(),cmap='gray')\n",
        "standard_nor = torch.distributions.MultivariateNormal(torch.zeros(32,).to(device), torch.eye(32,).to(device))\n",
        "\n",
        "latent = standard_nor.sample()\n",
        "\n",
        "bern = auto.decoder(latent)\n",
        "\n",
        "\n",
        "\n",
        "# generated_smooth = bern.reshape(-1,3,180,180)\n",
        "plt.imshow(bern.detach().cpu().squeeze().numpy().transpose(1,2,0))\n",
        "# plt.imshow(bern.detach().cpu().squeeze())\n",
        "# axarr[0].imshow(generated_smooth.detach().cpu().squeeze(),cmap='gray')"
      ]
    },
    {
      "cell_type": "code",
      "execution_count": null,
      "metadata": {},
      "outputs": [
        {
          "ename": "NameError",
          "evalue": "name 'torch' is not defined",
          "output_type": "error",
          "traceback": [
            "\u001b[0;31m---------------------------------------------------------------------------\u001b[0m",
            "\u001b[0;31mNameError\u001b[0m                                 Traceback (most recent call last)",
            "\u001b[0;32m/tmp/ipykernel_256890/629371449.py\u001b[0m in \u001b[0;36m<module>\u001b[0;34m\u001b[0m\n\u001b[0;32m----> 1\u001b[0;31m \u001b[0mstandard_nor\u001b[0m \u001b[0;34m=\u001b[0m \u001b[0mtorch\u001b[0m\u001b[0;34m.\u001b[0m\u001b[0mdistributions\u001b[0m\u001b[0;34m.\u001b[0m\u001b[0mMultivariateNormal\u001b[0m\u001b[0;34m(\u001b[0m\u001b[0mtorch\u001b[0m\u001b[0;34m.\u001b[0m\u001b[0mzeros\u001b[0m\u001b[0;34m(\u001b[0m\u001b[0;36m32\u001b[0m\u001b[0;34m,\u001b[0m\u001b[0;34m)\u001b[0m\u001b[0;34m,\u001b[0m \u001b[0mtorch\u001b[0m\u001b[0;34m.\u001b[0m\u001b[0meye\u001b[0m\u001b[0;34m(\u001b[0m\u001b[0;36m32\u001b[0m\u001b[0;34m,\u001b[0m\u001b[0;34m)\u001b[0m\u001b[0;34m)\u001b[0m\u001b[0;34m\u001b[0m\u001b[0;34m\u001b[0m\u001b[0m\n\u001b[0m\u001b[1;32m      2\u001b[0m \u001b[0;34m\u001b[0m\u001b[0m\n\u001b[1;32m      3\u001b[0m \u001b[0mlatent\u001b[0m \u001b[0;34m=\u001b[0m \u001b[0mstandard_nor\u001b[0m\u001b[0;34m.\u001b[0m\u001b[0msample\u001b[0m\u001b[0;34m(\u001b[0m\u001b[0;34m)\u001b[0m\u001b[0;34m\u001b[0m\u001b[0;34m\u001b[0m\u001b[0m\n\u001b[1;32m      4\u001b[0m \u001b[0mprint\u001b[0m\u001b[0;34m(\u001b[0m\u001b[0mlatent\u001b[0m\u001b[0;34m.\u001b[0m\u001b[0mshape\u001b[0m\u001b[0;34m)\u001b[0m\u001b[0;34m\u001b[0m\u001b[0;34m\u001b[0m\u001b[0m\n\u001b[1;32m      5\u001b[0m \u001b[0mprint\u001b[0m\u001b[0;34m(\u001b[0m\u001b[0mauto\u001b[0m\u001b[0;34m.\u001b[0m\u001b[0mdecoder\u001b[0m\u001b[0;34m)\u001b[0m\u001b[0;34m\u001b[0m\u001b[0;34m\u001b[0m\u001b[0m\n",
            "\u001b[0;31mNameError\u001b[0m: name 'torch' is not defined"
          ]
        }
      ],
      "source": [
        "standard_nor = torch.distributions.MultivariateNormal(torch.zeros(32,), torch.eye(32,))\n",
        "\n",
        "latent = standard_nor.sample()\n",
        "print(latent.shape)\n",
        "print(auto.decoder)\n",
        "bern = auto.decoder(latent.unsqueeze(0))\n",
        "\n",
        "\n",
        "\n",
        "# io.imsave('a',bern)"
      ]
    },
    {
      "cell_type": "code",
      "execution_count": null,
      "metadata": {},
      "outputs": [
        {
          "ename": "NameError",
          "evalue": "name 'data_loader' is not defined",
          "output_type": "error",
          "traceback": [
            "\u001b[0;31m---------------------------------------------------------------------------\u001b[0m",
            "\u001b[0;31mNameError\u001b[0m                                 Traceback (most recent call last)",
            "\u001b[0;32m/tmp/ipykernel_252878/2891634055.py\u001b[0m in \u001b[0;36m<module>\u001b[0;34m\u001b[0m\n\u001b[0;32m----> 1\u001b[0;31m \u001b[0mimg\u001b[0m \u001b[0;34m=\u001b[0m \u001b[0mnext\u001b[0m\u001b[0;34m(\u001b[0m\u001b[0miter\u001b[0m\u001b[0;34m(\u001b[0m\u001b[0mdata_loader\u001b[0m\u001b[0;34m)\u001b[0m\u001b[0;34m)\u001b[0m\u001b[0;34m\u001b[0m\u001b[0;34m\u001b[0m\u001b[0m\n\u001b[0m\u001b[1;32m      2\u001b[0m \u001b[0mimg\u001b[0m \u001b[0;34m=\u001b[0m \u001b[0mimg\u001b[0m\u001b[0;34m.\u001b[0m\u001b[0mto\u001b[0m\u001b[0;34m(\u001b[0m\u001b[0mdevice\u001b[0m\u001b[0;34m)\u001b[0m\u001b[0;34m\u001b[0m\u001b[0;34m\u001b[0m\u001b[0m\n\u001b[1;32m      3\u001b[0m \u001b[0mbeta\u001b[0m \u001b[0;34m=\u001b[0m \u001b[0;36m5\u001b[0m\u001b[0;34m\u001b[0m\u001b[0;34m\u001b[0m\u001b[0m\n\u001b[1;32m      4\u001b[0m \u001b[0;34m\u001b[0m\u001b[0m\n\u001b[1;32m      5\u001b[0m \u001b[0mmean\u001b[0m\u001b[0;34m,\u001b[0m\u001b[0mlog_std\u001b[0m \u001b[0;34m=\u001b[0m \u001b[0mauto\u001b[0m\u001b[0;34m.\u001b[0m\u001b[0mencoder\u001b[0m\u001b[0;34m(\u001b[0m\u001b[0mimg\u001b[0m\u001b[0;34m)\u001b[0m\u001b[0;34m\u001b[0m\u001b[0;34m\u001b[0m\u001b[0m\n",
            "\u001b[0;31mNameError\u001b[0m: name 'data_loader' is not defined"
          ]
        }
      ],
      "source": [
        "img = next(iter(data_loader))\n",
        "img = img.to(device)\n",
        "beta = 5\n",
        "\n",
        "mean,log_std = auto.encoder(img)\n",
        "\n",
        "var = torch.exp(2*log_std)\n",
        "\n",
        "a = torch.arange(0,var.shape[1]).to(device)\n",
        "cov_mat = torch.zeros((var.shape[0],var.shape[1],var.shape[1])).to(device)\n",
        "cov_mat[:,a,a] = var\n",
        "\n",
        "nor_dist = torch.distributions.MultivariateNormal(mean, cov_mat)\n",
        "\n",
        "standard_nor = torch.distributions.MultivariateNormal(torch.zeros(mean.shape[1]).to(device), torch.eye(cov_mat.shape[1]).to(device))\n",
        "\n",
        "latent = standard_nor.sample((mean.shape[0],))*torch.exp(log_std) + mean\n",
        "\n",
        "bern = auto.decoder(latent)"
      ]
    }
  ],
  "metadata": {
    "colab": {
      "collapsed_sections": [],
      "name": "BVAE.ipynb",
      "provenance": []
    },
    "kernelspec": {
      "display_name": "Python 3",
      "name": "python3"
    },
    "language_info": {
      "codemirror_mode": {
        "name": "ipython",
        "version": 3
      },
      "file_extension": ".py",
      "mimetype": "text/x-python",
      "name": "python",
      "nbconvert_exporter": "python",
      "pygments_lexer": "ipython3",
      "version": "3.9.7"
    }
  },
  "nbformat": 4,
  "nbformat_minor": 0
}
